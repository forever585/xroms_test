{
 "cells": [
  {
   "cell_type": "code",
   "execution_count": 1,
   "metadata": {},
   "outputs": [],
   "source": [
    "import xarray as xr\n",
    "import xroms\n",
    "from glob import glob"
   ]
  },
  {
   "cell_type": "markdown",
   "metadata": {},
   "source": [
    "# How to load data\n",
    "\n",
    "This demonstrates how to read in ROMS model output from thredds, a list of netCDF files, and a list of zarr files.\n",
    "\n",
    "Chunks are used to break up model output into smaller units for use with `dask`. Inputting chunks into a call to open a dataset requires the use of `dask`. This can be formalized more by setting up a `dask` cluster. The best sizing of chunks is not clear *a priori* and requires some testing.\n",
    "\n",
    "A big benefit to reading in model output using one of these functions is that it adds `z` coordinates and other useful metrics to the `Dataset`, including the z coordinates on each horizontal grid (e.g., z_rho_u), and the z coordinates relative to mean sea level (e.g., z_rho0). It also sets up an xgcm grid object for the Dataset, which is stored in each DataArray in the Dataset in its attributes, and is accessible with the accessor (`ds.xroms.grid`)."
   ]
  },
  {
   "cell_type": "markdown",
   "metadata": {},
   "source": [
    "## single netCDF location\n",
    "\n",
    "Model output stored in netCDF format with one address (local file location or thredds server address `loc`) can be read in with \n",
    "\n",
    "    xroms.open_netcdf(loc, chunks)."
   ]
  },
  {
   "cell_type": "code",
   "execution_count": 2,
   "metadata": {},
   "outputs": [],
   "source": [
    "# Forecast model output of the Texas-Louisiana shelf\n",
    "loc = 'http://barataria.tamu.edu:8080/thredds/dodsC/forecast_latest/txla2_his_f_latest.nc'\n",
    "\n",
    "# A basic chunk choice\n",
    "chunks = {'ocean_time':1}\n",
    "\n",
    "# no special xroms function required to read in from thredds\n",
    "ds = xroms.open_netcdf(loc, chunks=chunks)"
   ]
  },
  {
   "cell_type": "markdown",
   "metadata": {},
   "source": [
    "## list of netCDF files\n",
    "\n",
    "For a list of local netCDF files, with their `.nc` suffix, containing ROMS output:\n",
    "\n",
    "    ds = xroms.open_netcdf(files, chunks)\n",
    "\n",
    "Some default selections are automatically chosen for reading in the files:\n",
    "\n",
    "    {'compat': 'override', 'combine': 'by_coords',\n",
    "         'data_vars': 'minimal', 'coords': 'minimal', 'parallel': True}\n",
    "         \n",
    "Any of these can be overwritten by inputting a dictionary with updated entries. Other desired inputs to `xr.open_mfdataset` can also be input this way.\n",
    "\n",
    "    xrargs = {'parallel': False}"
   ]
  },
  {
   "cell_type": "code",
   "execution_count": 3,
   "metadata": {},
   "outputs": [],
   "source": [
    "files = glob('../xroms/tests/input/ocean_his_000?.nc')\n",
    "ds = xroms.open_mfnetcdf(files, chunks=chunks)"
   ]
  },
  {
   "cell_type": "markdown",
   "metadata": {},
   "source": [
    "## zarr files example\n",
    "\n",
    "For a list of zarr output files, with no suffix, containing ROMS output, use:\n",
    "\n",
    "    ds = xroms.open_zarr(files, chunks)\n",
    "    \n",
    "Some default selections are automatically chosen for reading in the files:\n",
    "\n",
    "    {'consolidated': True, 'drop_variables': 'dstart'}\n",
    "    \n",
    "and for concatenating the files together:\n",
    "\n",
    "    {'dim': 'ocean_time', 'data_vars': 'minimal', 'coords': 'minimal'}\n",
    "         \n",
    "Any of these can be overwritten by inputting a dictionary called `xrargs` with updated entries. Other desired inputs to `xr.open_zarr` can also be input this way. To modify or add arguments to `concat`, use `xrconcatargs`.\n",
    "\n",
    "We can use test model output to demonstrate. We use `chunks={'ocean_time':2}` because there are two files, each with 2 time steps."
   ]
  },
  {
   "cell_type": "code",
   "execution_count": 4,
   "metadata": {},
   "outputs": [],
   "source": [
    "files = glob('../xroms/tests/input/ocean_his_000?')\n",
    "ds = xroms.open_zarr(files, chunks = {'ocean_time':2})"
   ]
  },
  {
   "cell_type": "markdown",
   "metadata": {},
   "source": [
    "## Save output\n",
    "\n",
    "After model output has been read in with `xarray`, it can be used for calculations and/or subsetted, then easily saved back out to a file:\n",
    "\n",
    "    ds.isel(ocean_time=0).to_netcdf('filename.nc')"
   ]
  }
 ],
 "metadata": {
  "kernelspec": {
   "display_name": "Python 3",
   "language": "python",
   "name": "python3"
  },
  "language_info": {
   "codemirror_mode": {
    "name": "ipython",
    "version": 3
   },
   "file_extension": ".py",
   "mimetype": "text/x-python",
   "name": "python",
   "nbconvert_exporter": "python",
   "pygments_lexer": "ipython3",
   "version": "3.8.5"
  }
 },
 "nbformat": 4,
 "nbformat_minor": 4
}
